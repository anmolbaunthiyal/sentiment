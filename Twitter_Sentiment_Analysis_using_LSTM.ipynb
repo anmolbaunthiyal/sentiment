{
  "cells": [
    {
      "cell_type": "markdown",
      "source": [
        "Mounting the Google Drive for fetching the train/test data."
      ],
      "metadata": {
        "id": "rrkgeTloHRJ5"
      }
    },
    {
      "cell_type": "code",
      "execution_count": 29,
      "metadata": {
        "colab": {
          "base_uri": "https://localhost:8080/"
        },
        "id": "5-6RqyGns65m",
        "outputId": "dd8b7b34-5d14-4848-a320-71d1557ab9e0"
      },
      "outputs": [
        {
          "output_type": "stream",
          "name": "stdout",
          "text": [
            "Drive already mounted at /content/drive; to attempt to forcibly remount, call drive.mount(\"/content/drive\", force_remount=True).\n"
          ]
        }
      ],
      "source": [
        "from google.colab import drive\n",
        "drive.mount('/content/drive')"
      ]
    },
    {
      "cell_type": "markdown",
      "source": [
        "Reading data from Drive."
      ],
      "metadata": {
        "id": "z8sGXuSiHdA-"
      }
    },
    {
      "cell_type": "code",
      "execution_count": 30,
      "metadata": {
        "id": "QmGMCqposrNc"
      },
      "outputs": [],
      "source": [
        "df = pd.read_csv(\"/content/drive/MyDrive/twitter/Tweets.csv\")"
      ]
    },
    {
      "cell_type": "code",
      "execution_count": 31,
      "metadata": {
        "colab": {
          "base_uri": "https://localhost:8080/"
        },
        "id": "B2oqSD22srNc",
        "outputId": "9991d6cc-9f23-4a68-a3c1-3879eea40538"
      },
      "outputs": [
        {
          "output_type": "stream",
          "name": "stdout",
          "text": [
            "Looking in indexes: https://pypi.org/simple, https://us-python.pkg.dev/colab-wheels/public/simple/\n",
            "Requirement already satisfied: tensorflow-addons==0.8.3 in /usr/local/lib/python3.7/dist-packages (0.8.3)\n",
            "Requirement already satisfied: typeguard in /usr/local/lib/python3.7/dist-packages (from tensorflow-addons==0.8.3) (2.7.1)\n",
            "Looking in indexes: https://pypi.org/simple, https://us-python.pkg.dev/colab-wheels/public/simple/\n",
            "\u001b[31mERROR: Could not find a version that satisfies the requirement tensorflow==2.2.0-rc3 (from versions: 1.13.1, 1.13.2, 1.14.0, 1.15.0, 1.15.2, 1.15.3, 1.15.4, 1.15.5, 2.0.0, 2.0.1, 2.0.2, 2.0.3, 2.0.4, 2.1.0, 2.1.1, 2.1.2, 2.1.3, 2.1.4, 2.2.0, 2.2.1, 2.2.2, 2.2.3, 2.3.0, 2.3.1, 2.3.2, 2.3.3, 2.3.4, 2.4.0, 2.4.1, 2.4.2, 2.4.3, 2.4.4, 2.5.0, 2.5.1, 2.5.2, 2.5.3, 2.6.0rc0, 2.6.0rc1, 2.6.0rc2, 2.6.0, 2.6.0+zzzcolab20220506153740, 2.6.1, 2.6.2, 2.6.3, 2.6.4, 2.6.4+zzzcolab20220516125453, 2.6.5, 2.6.5+zzzcolab20220523104206, 2.7.0rc0, 2.7.0rc1, 2.7.0, 2.7.0+zzzcolab20220506150900, 2.7.1, 2.7.2, 2.7.2+zzzcolab20220516114640, 2.7.3, 2.7.3+zzzcolab20220523111007, 2.7.4, 2.8.0rc0, 2.8.0rc1, 2.8.0, 2.8.0+zzzcolab20220506162203, 2.8.1, 2.8.1+zzzcolab20220516111314, 2.8.1+zzzcolab20220518083849, 2.8.2, 2.8.2+zzzcolab20220523105045, 2.8.2+zzzcolab20220527125636, 2.8.2+zzzcolab20220629235552, 2.8.2+zzzcolab20220714152931, 2.8.2+zzzcolab20220714162028, 2.8.2+zzzcolab20220719082949, 2.8.2+zzzcolab20220822160911, 2.8.2+zzzcolab20220929150707, 2.8.3, 2.9.0rc0, 2.9.0rc1, 2.9.0rc2, 2.9.0, 2.9.1, 2.9.2, 2.10.0rc0, 2.10.0rc1, 2.10.0rc2, 2.10.0rc3, 2.10.0, 2.11.0rc0, 2.11.0rc1, 2.11.0rc2)\u001b[0m\n",
            "\u001b[31mERROR: No matching distribution found for tensorflow==2.2.0-rc3\u001b[0m\n"
          ]
        },
        {
          "output_type": "stream",
          "name": "stderr",
          "text": [
            "[nltk_data] Downloading package punkt to /root/nltk_data...\n",
            "[nltk_data]   Package punkt is already up-to-date!\n",
            "[nltk_data] Downloading package wordnet to /root/nltk_data...\n",
            "[nltk_data]   Package wordnet is already up-to-date!\n",
            "[nltk_data] Downloading package omw-1.4 to /root/nltk_data...\n",
            "[nltk_data]   Package omw-1.4 is already up-to-date!\n"
          ]
        },
        {
          "output_type": "execute_result",
          "data": {
            "text/plain": [
              "True"
            ]
          },
          "metadata": {},
          "execution_count": 31
        }
      ],
      "source": [
        "# Importing required libraries\n",
        "import nltk\n",
        "import numpy as np\n",
        "import pandas as pd\n",
        "from nltk.corpus import stopwords\n",
        "from textblob import Word\n",
        "from sklearn.preprocessing import LabelEncoder\n",
        "from collections import Counter\n",
        "import wordcloud\n",
        "from sklearn.metrics import classification_report,confusion_matrix,accuracy_score\n",
        "from tensorflow.keras.models import Sequential\n",
        "from tensorflow.keras.preprocessing.text import Tokenizer\n",
        "from tensorflow.keras.preprocessing.sequence import pad_sequences\n",
        "from tensorflow.keras.layers import Dense, Embedding, LSTM, SpatialDropout1D\n",
        "from sklearn.model_selection import train_test_split \n",
        "import matplotlib.pyplot as plt\n",
        "from nltk.tokenize import word_tokenize\n",
        "from nltk.stem import WordNetLemmatizer\n",
        "from tensorflow.keras.callbacks import EarlyStopping\n",
        "!pip install tensorflow-addons==0.8.3\n",
        "!pip install tensorflow==2.2.0-rc3\n",
        "import tensorflow_addons as tfa\n",
        "nltk.download('punkt')\n",
        "nltk.download('wordnet')\n",
        "nltk.download('omw-1.4')\n"
      ]
    },
    {
      "cell_type": "code",
      "execution_count": 52,
      "metadata": {
        "id": "FQ2f5gKcsrNd"
      },
      "outputs": [],
      "source": [
        "Data = df[['non_punctuated_tweets','sentiment']]"
      ]
    },
    {
      "cell_type": "code",
      "execution_count": 53,
      "metadata": {
        "colab": {
          "base_uri": "https://localhost:8080/",
          "height": 424
        },
        "id": "cw23hDexsrNd",
        "outputId": "28ba260e-a778-47fa-81d6-6836690bb42f"
      },
      "outputs": [
        {
          "output_type": "execute_result",
          "data": {
            "text/plain": [
              "                                   non_punctuated_tweets sentiment\n",
              "0      put hours game last year still holds well blas...  positive\n",
              "1                                   story great terrible  positive\n",
              "2      jaedo event bought tickets nd quarter finally ...  negative\n",
              "3      year going super dynamic bc im graduating uni ...  positive\n",
              "4      literally tough year none plan going right pre...  positive\n",
              "...                                                  ...       ...\n",
              "17769  really rough one mental health truly feel many...  positive\n",
              "17770  happy new year everyone except boy dated coupl...  positive\n",
              "17771  crazy bought car moved shot porn butt plug bum...  negative\n",
              "17772  think descent art year despite able use tablet...   neutral\n",
              "17773  hi active moment wanted say happy new year acc...  positive\n",
              "\n",
              "[17774 rows x 2 columns]"
            ],
            "text/html": [
              "\n",
              "  <div id=\"df-08c1f994-68a4-416a-86fd-849c05707883\">\n",
              "    <div class=\"colab-df-container\">\n",
              "      <div>\n",
              "<style scoped>\n",
              "    .dataframe tbody tr th:only-of-type {\n",
              "        vertical-align: middle;\n",
              "    }\n",
              "\n",
              "    .dataframe tbody tr th {\n",
              "        vertical-align: top;\n",
              "    }\n",
              "\n",
              "    .dataframe thead th {\n",
              "        text-align: right;\n",
              "    }\n",
              "</style>\n",
              "<table border=\"1\" class=\"dataframe\">\n",
              "  <thead>\n",
              "    <tr style=\"text-align: right;\">\n",
              "      <th></th>\n",
              "      <th>non_punctuated_tweets</th>\n",
              "      <th>sentiment</th>\n",
              "    </tr>\n",
              "  </thead>\n",
              "  <tbody>\n",
              "    <tr>\n",
              "      <th>0</th>\n",
              "      <td>put hours game last year still holds well blas...</td>\n",
              "      <td>positive</td>\n",
              "    </tr>\n",
              "    <tr>\n",
              "      <th>1</th>\n",
              "      <td>story great terrible</td>\n",
              "      <td>positive</td>\n",
              "    </tr>\n",
              "    <tr>\n",
              "      <th>2</th>\n",
              "      <td>jaedo event bought tickets nd quarter finally ...</td>\n",
              "      <td>negative</td>\n",
              "    </tr>\n",
              "    <tr>\n",
              "      <th>3</th>\n",
              "      <td>year going super dynamic bc im graduating uni ...</td>\n",
              "      <td>positive</td>\n",
              "    </tr>\n",
              "    <tr>\n",
              "      <th>4</th>\n",
              "      <td>literally tough year none plan going right pre...</td>\n",
              "      <td>positive</td>\n",
              "    </tr>\n",
              "    <tr>\n",
              "      <th>...</th>\n",
              "      <td>...</td>\n",
              "      <td>...</td>\n",
              "    </tr>\n",
              "    <tr>\n",
              "      <th>17769</th>\n",
              "      <td>really rough one mental health truly feel many...</td>\n",
              "      <td>positive</td>\n",
              "    </tr>\n",
              "    <tr>\n",
              "      <th>17770</th>\n",
              "      <td>happy new year everyone except boy dated coupl...</td>\n",
              "      <td>positive</td>\n",
              "    </tr>\n",
              "    <tr>\n",
              "      <th>17771</th>\n",
              "      <td>crazy bought car moved shot porn butt plug bum...</td>\n",
              "      <td>negative</td>\n",
              "    </tr>\n",
              "    <tr>\n",
              "      <th>17772</th>\n",
              "      <td>think descent art year despite able use tablet...</td>\n",
              "      <td>neutral</td>\n",
              "    </tr>\n",
              "    <tr>\n",
              "      <th>17773</th>\n",
              "      <td>hi active moment wanted say happy new year acc...</td>\n",
              "      <td>positive</td>\n",
              "    </tr>\n",
              "  </tbody>\n",
              "</table>\n",
              "<p>17774 rows × 2 columns</p>\n",
              "</div>\n",
              "      <button class=\"colab-df-convert\" onclick=\"convertToInteractive('df-08c1f994-68a4-416a-86fd-849c05707883')\"\n",
              "              title=\"Convert this dataframe to an interactive table.\"\n",
              "              style=\"display:none;\">\n",
              "        \n",
              "  <svg xmlns=\"http://www.w3.org/2000/svg\" height=\"24px\"viewBox=\"0 0 24 24\"\n",
              "       width=\"24px\">\n",
              "    <path d=\"M0 0h24v24H0V0z\" fill=\"none\"/>\n",
              "    <path d=\"M18.56 5.44l.94 2.06.94-2.06 2.06-.94-2.06-.94-.94-2.06-.94 2.06-2.06.94zm-11 1L8.5 8.5l.94-2.06 2.06-.94-2.06-.94L8.5 2.5l-.94 2.06-2.06.94zm10 10l.94 2.06.94-2.06 2.06-.94-2.06-.94-.94-2.06-.94 2.06-2.06.94z\"/><path d=\"M17.41 7.96l-1.37-1.37c-.4-.4-.92-.59-1.43-.59-.52 0-1.04.2-1.43.59L10.3 9.45l-7.72 7.72c-.78.78-.78 2.05 0 2.83L4 21.41c.39.39.9.59 1.41.59.51 0 1.02-.2 1.41-.59l7.78-7.78 2.81-2.81c.8-.78.8-2.07 0-2.86zM5.41 20L4 18.59l7.72-7.72 1.47 1.35L5.41 20z\"/>\n",
              "  </svg>\n",
              "      </button>\n",
              "      \n",
              "  <style>\n",
              "    .colab-df-container {\n",
              "      display:flex;\n",
              "      flex-wrap:wrap;\n",
              "      gap: 12px;\n",
              "    }\n",
              "\n",
              "    .colab-df-convert {\n",
              "      background-color: #E8F0FE;\n",
              "      border: none;\n",
              "      border-radius: 50%;\n",
              "      cursor: pointer;\n",
              "      display: none;\n",
              "      fill: #1967D2;\n",
              "      height: 32px;\n",
              "      padding: 0 0 0 0;\n",
              "      width: 32px;\n",
              "    }\n",
              "\n",
              "    .colab-df-convert:hover {\n",
              "      background-color: #E2EBFA;\n",
              "      box-shadow: 0px 1px 2px rgba(60, 64, 67, 0.3), 0px 1px 3px 1px rgba(60, 64, 67, 0.15);\n",
              "      fill: #174EA6;\n",
              "    }\n",
              "\n",
              "    [theme=dark] .colab-df-convert {\n",
              "      background-color: #3B4455;\n",
              "      fill: #D2E3FC;\n",
              "    }\n",
              "\n",
              "    [theme=dark] .colab-df-convert:hover {\n",
              "      background-color: #434B5C;\n",
              "      box-shadow: 0px 1px 3px 1px rgba(0, 0, 0, 0.15);\n",
              "      filter: drop-shadow(0px 1px 2px rgba(0, 0, 0, 0.3));\n",
              "      fill: #FFFFFF;\n",
              "    }\n",
              "  </style>\n",
              "\n",
              "      <script>\n",
              "        const buttonEl =\n",
              "          document.querySelector('#df-08c1f994-68a4-416a-86fd-849c05707883 button.colab-df-convert');\n",
              "        buttonEl.style.display =\n",
              "          google.colab.kernel.accessAllowed ? 'block' : 'none';\n",
              "\n",
              "        async function convertToInteractive(key) {\n",
              "          const element = document.querySelector('#df-08c1f994-68a4-416a-86fd-849c05707883');\n",
              "          const dataTable =\n",
              "            await google.colab.kernel.invokeFunction('convertToInteractive',\n",
              "                                                     [key], {});\n",
              "          if (!dataTable) return;\n",
              "\n",
              "          const docLinkHtml = 'Like what you see? Visit the ' +\n",
              "            '<a target=\"_blank\" href=https://colab.research.google.com/notebooks/data_table.ipynb>data table notebook</a>'\n",
              "            + ' to learn more about interactive tables.';\n",
              "          element.innerHTML = '';\n",
              "          dataTable['output_type'] = 'display_data';\n",
              "          await google.colab.output.renderOutput(dataTable, element);\n",
              "          const docLink = document.createElement('div');\n",
              "          docLink.innerHTML = docLinkHtml;\n",
              "          element.appendChild(docLink);\n",
              "        }\n",
              "      </script>\n",
              "    </div>\n",
              "  </div>\n",
              "  "
            ]
          },
          "metadata": {},
          "execution_count": 53
        }
      ],
      "source": [
        "Data"
      ]
    },
    {
      "cell_type": "markdown",
      "source": [
        "Tokenization"
      ],
      "metadata": {
        "id": "FQEEJ-8LZdR4"
      }
    },
    {
      "cell_type": "code",
      "execution_count": 34,
      "metadata": {
        "colab": {
          "base_uri": "https://localhost:8080/"
        },
        "id": "N-rrvWv6srNd",
        "outputId": "770d6661-4edd-4ed8-e075-76e9d6638346"
      },
      "outputs": [
        {
          "output_type": "stream",
          "name": "stderr",
          "text": [
            "/usr/local/lib/python3.7/dist-packages/ipykernel_launcher.py:1: SettingWithCopyWarning: \n",
            "A value is trying to be set on a copy of a slice from a DataFrame.\n",
            "Try using .loc[row_indexer,col_indexer] = value instead\n",
            "\n",
            "See the caveats in the documentation: https://pandas.pydata.org/pandas-docs/stable/user_guide/indexing.html#returning-a-view-versus-a-copy\n",
            "  \"\"\"Entry point for launching an IPython kernel.\n"
          ]
        }
      ],
      "source": [
        "\n",
        "Data['tokenized_tweets'] = Data.apply(lambda row : nltk.word_tokenize(str(row['non_punctuated_tweets'])),axis = 1)"
      ]
    },
    {
      "cell_type": "code",
      "execution_count": 35,
      "metadata": {
        "id": "wKd_C7RmsrNe",
        "colab": {
          "base_uri": "https://localhost:8080/",
          "height": 424
        },
        "outputId": "9f9d88d1-2c6a-422f-814a-23130b0a1a1e"
      },
      "outputs": [
        {
          "output_type": "execute_result",
          "data": {
            "text/plain": [
              "                                   non_punctuated_tweets sentiment  \\\n",
              "0      put hours game last year still holds well blas...  positive   \n",
              "1                                   story great terrible  positive   \n",
              "2      jaedo event bought tickets nd quarter finally ...  negative   \n",
              "3      year going super dynamic bc im graduating uni ...  positive   \n",
              "4      literally tough year none plan going right pre...  positive   \n",
              "...                                                  ...       ...   \n",
              "17769  really rough one mental health truly feel many...  positive   \n",
              "17770  happy new year everyone except boy dated coupl...  positive   \n",
              "17771  crazy bought car moved shot porn butt plug bum...  negative   \n",
              "17772  think descent art year despite able use tablet...   neutral   \n",
              "17773  hi active moment wanted say happy new year acc...  positive   \n",
              "\n",
              "                                        tokenized_tweets  \n",
              "0      [put, hours, game, last, year, still, holds, w...  \n",
              "1                               [story, great, terrible]  \n",
              "2      [jaedo, event, bought, tickets, nd, quarter, f...  \n",
              "3      [year, going, super, dynamic, bc, im, graduati...  \n",
              "4      [literally, tough, year, none, plan, going, ri...  \n",
              "...                                                  ...  \n",
              "17769  [really, rough, one, mental, health, truly, fe...  \n",
              "17770  [happy, new, year, everyone, except, boy, date...  \n",
              "17771  [crazy, bought, car, moved, shot, porn, butt, ...  \n",
              "17772  [think, descent, art, year, despite, able, use...  \n",
              "17773  [hi, active, moment, wanted, say, happy, new, ...  \n",
              "\n",
              "[17774 rows x 3 columns]"
            ],
            "text/html": [
              "\n",
              "  <div id=\"df-7992f286-dbcd-4178-9f70-859a8dea5f75\">\n",
              "    <div class=\"colab-df-container\">\n",
              "      <div>\n",
              "<style scoped>\n",
              "    .dataframe tbody tr th:only-of-type {\n",
              "        vertical-align: middle;\n",
              "    }\n",
              "\n",
              "    .dataframe tbody tr th {\n",
              "        vertical-align: top;\n",
              "    }\n",
              "\n",
              "    .dataframe thead th {\n",
              "        text-align: right;\n",
              "    }\n",
              "</style>\n",
              "<table border=\"1\" class=\"dataframe\">\n",
              "  <thead>\n",
              "    <tr style=\"text-align: right;\">\n",
              "      <th></th>\n",
              "      <th>non_punctuated_tweets</th>\n",
              "      <th>sentiment</th>\n",
              "      <th>tokenized_tweets</th>\n",
              "    </tr>\n",
              "  </thead>\n",
              "  <tbody>\n",
              "    <tr>\n",
              "      <th>0</th>\n",
              "      <td>put hours game last year still holds well blas...</td>\n",
              "      <td>positive</td>\n",
              "      <td>[put, hours, game, last, year, still, holds, w...</td>\n",
              "    </tr>\n",
              "    <tr>\n",
              "      <th>1</th>\n",
              "      <td>story great terrible</td>\n",
              "      <td>positive</td>\n",
              "      <td>[story, great, terrible]</td>\n",
              "    </tr>\n",
              "    <tr>\n",
              "      <th>2</th>\n",
              "      <td>jaedo event bought tickets nd quarter finally ...</td>\n",
              "      <td>negative</td>\n",
              "      <td>[jaedo, event, bought, tickets, nd, quarter, f...</td>\n",
              "    </tr>\n",
              "    <tr>\n",
              "      <th>3</th>\n",
              "      <td>year going super dynamic bc im graduating uni ...</td>\n",
              "      <td>positive</td>\n",
              "      <td>[year, going, super, dynamic, bc, im, graduati...</td>\n",
              "    </tr>\n",
              "    <tr>\n",
              "      <th>4</th>\n",
              "      <td>literally tough year none plan going right pre...</td>\n",
              "      <td>positive</td>\n",
              "      <td>[literally, tough, year, none, plan, going, ri...</td>\n",
              "    </tr>\n",
              "    <tr>\n",
              "      <th>...</th>\n",
              "      <td>...</td>\n",
              "      <td>...</td>\n",
              "      <td>...</td>\n",
              "    </tr>\n",
              "    <tr>\n",
              "      <th>17769</th>\n",
              "      <td>really rough one mental health truly feel many...</td>\n",
              "      <td>positive</td>\n",
              "      <td>[really, rough, one, mental, health, truly, fe...</td>\n",
              "    </tr>\n",
              "    <tr>\n",
              "      <th>17770</th>\n",
              "      <td>happy new year everyone except boy dated coupl...</td>\n",
              "      <td>positive</td>\n",
              "      <td>[happy, new, year, everyone, except, boy, date...</td>\n",
              "    </tr>\n",
              "    <tr>\n",
              "      <th>17771</th>\n",
              "      <td>crazy bought car moved shot porn butt plug bum...</td>\n",
              "      <td>negative</td>\n",
              "      <td>[crazy, bought, car, moved, shot, porn, butt, ...</td>\n",
              "    </tr>\n",
              "    <tr>\n",
              "      <th>17772</th>\n",
              "      <td>think descent art year despite able use tablet...</td>\n",
              "      <td>neutral</td>\n",
              "      <td>[think, descent, art, year, despite, able, use...</td>\n",
              "    </tr>\n",
              "    <tr>\n",
              "      <th>17773</th>\n",
              "      <td>hi active moment wanted say happy new year acc...</td>\n",
              "      <td>positive</td>\n",
              "      <td>[hi, active, moment, wanted, say, happy, new, ...</td>\n",
              "    </tr>\n",
              "  </tbody>\n",
              "</table>\n",
              "<p>17774 rows × 3 columns</p>\n",
              "</div>\n",
              "      <button class=\"colab-df-convert\" onclick=\"convertToInteractive('df-7992f286-dbcd-4178-9f70-859a8dea5f75')\"\n",
              "              title=\"Convert this dataframe to an interactive table.\"\n",
              "              style=\"display:none;\">\n",
              "        \n",
              "  <svg xmlns=\"http://www.w3.org/2000/svg\" height=\"24px\"viewBox=\"0 0 24 24\"\n",
              "       width=\"24px\">\n",
              "    <path d=\"M0 0h24v24H0V0z\" fill=\"none\"/>\n",
              "    <path d=\"M18.56 5.44l.94 2.06.94-2.06 2.06-.94-2.06-.94-.94-2.06-.94 2.06-2.06.94zm-11 1L8.5 8.5l.94-2.06 2.06-.94-2.06-.94L8.5 2.5l-.94 2.06-2.06.94zm10 10l.94 2.06.94-2.06 2.06-.94-2.06-.94-.94-2.06-.94 2.06-2.06.94z\"/><path d=\"M17.41 7.96l-1.37-1.37c-.4-.4-.92-.59-1.43-.59-.52 0-1.04.2-1.43.59L10.3 9.45l-7.72 7.72c-.78.78-.78 2.05 0 2.83L4 21.41c.39.39.9.59 1.41.59.51 0 1.02-.2 1.41-.59l7.78-7.78 2.81-2.81c.8-.78.8-2.07 0-2.86zM5.41 20L4 18.59l7.72-7.72 1.47 1.35L5.41 20z\"/>\n",
              "  </svg>\n",
              "      </button>\n",
              "      \n",
              "  <style>\n",
              "    .colab-df-container {\n",
              "      display:flex;\n",
              "      flex-wrap:wrap;\n",
              "      gap: 12px;\n",
              "    }\n",
              "\n",
              "    .colab-df-convert {\n",
              "      background-color: #E8F0FE;\n",
              "      border: none;\n",
              "      border-radius: 50%;\n",
              "      cursor: pointer;\n",
              "      display: none;\n",
              "      fill: #1967D2;\n",
              "      height: 32px;\n",
              "      padding: 0 0 0 0;\n",
              "      width: 32px;\n",
              "    }\n",
              "\n",
              "    .colab-df-convert:hover {\n",
              "      background-color: #E2EBFA;\n",
              "      box-shadow: 0px 1px 2px rgba(60, 64, 67, 0.3), 0px 1px 3px 1px rgba(60, 64, 67, 0.15);\n",
              "      fill: #174EA6;\n",
              "    }\n",
              "\n",
              "    [theme=dark] .colab-df-convert {\n",
              "      background-color: #3B4455;\n",
              "      fill: #D2E3FC;\n",
              "    }\n",
              "\n",
              "    [theme=dark] .colab-df-convert:hover {\n",
              "      background-color: #434B5C;\n",
              "      box-shadow: 0px 1px 3px 1px rgba(0, 0, 0, 0.15);\n",
              "      filter: drop-shadow(0px 1px 2px rgba(0, 0, 0, 0.3));\n",
              "      fill: #FFFFFF;\n",
              "    }\n",
              "  </style>\n",
              "\n",
              "      <script>\n",
              "        const buttonEl =\n",
              "          document.querySelector('#df-7992f286-dbcd-4178-9f70-859a8dea5f75 button.colab-df-convert');\n",
              "        buttonEl.style.display =\n",
              "          google.colab.kernel.accessAllowed ? 'block' : 'none';\n",
              "\n",
              "        async function convertToInteractive(key) {\n",
              "          const element = document.querySelector('#df-7992f286-dbcd-4178-9f70-859a8dea5f75');\n",
              "          const dataTable =\n",
              "            await google.colab.kernel.invokeFunction('convertToInteractive',\n",
              "                                                     [key], {});\n",
              "          if (!dataTable) return;\n",
              "\n",
              "          const docLinkHtml = 'Like what you see? Visit the ' +\n",
              "            '<a target=\"_blank\" href=https://colab.research.google.com/notebooks/data_table.ipynb>data table notebook</a>'\n",
              "            + ' to learn more about interactive tables.';\n",
              "          element.innerHTML = '';\n",
              "          dataTable['output_type'] = 'display_data';\n",
              "          await google.colab.output.renderOutput(dataTable, element);\n",
              "          const docLink = document.createElement('div');\n",
              "          docLink.innerHTML = docLinkHtml;\n",
              "          element.appendChild(docLink);\n",
              "        }\n",
              "      </script>\n",
              "    </div>\n",
              "  </div>\n",
              "  "
            ]
          },
          "metadata": {},
          "execution_count": 35
        }
      ],
      "source": [
        "Data"
      ]
    },
    {
      "cell_type": "markdown",
      "source": [
        "Lemmatization"
      ],
      "metadata": {
        "id": "NCxBBQf1ZiYX"
      }
    },
    {
      "cell_type": "code",
      "execution_count": 36,
      "metadata": {
        "id": "WMQxy0q8srNe",
        "colab": {
          "base_uri": "https://localhost:8080/"
        },
        "outputId": "d86634da-9c55-49f7-fe33-4780fc364ad3"
      },
      "outputs": [
        {
          "output_type": "stream",
          "name": "stderr",
          "text": [
            "/usr/local/lib/python3.7/dist-packages/ipykernel_launcher.py:3: SettingWithCopyWarning: \n",
            "A value is trying to be set on a copy of a slice from a DataFrame.\n",
            "Try using .loc[row_indexer,col_indexer] = value instead\n",
            "\n",
            "See the caveats in the documentation: https://pandas.pydata.org/pandas-docs/stable/user_guide/indexing.html#returning-a-view-versus-a-copy\n",
            "  This is separate from the ipykernel package so we can avoid doing imports until\n"
          ]
        }
      ],
      "source": [
        "def lemma(data):\n",
        "    return \" \".join([Word(word).lemmatize() for word in data])\n",
        "Data['lemmatized_tweets']= Data['tokenized_tweets'].apply(lambda x: lemma(x))"
      ]
    },
    {
      "cell_type": "code",
      "execution_count": 37,
      "metadata": {
        "id": "4k8orM2AsrNe",
        "colab": {
          "base_uri": "https://localhost:8080/",
          "height": 624
        },
        "outputId": "caaf7956-a970-4629-84dd-88dfdc6934aa"
      },
      "outputs": [
        {
          "output_type": "execute_result",
          "data": {
            "text/plain": [
              "                                   non_punctuated_tweets sentiment  \\\n",
              "0      put hours game last year still holds well blas...  positive   \n",
              "1                                   story great terrible  positive   \n",
              "2      jaedo event bought tickets nd quarter finally ...  negative   \n",
              "3      year going super dynamic bc im graduating uni ...  positive   \n",
              "4      literally tough year none plan going right pre...  positive   \n",
              "...                                                  ...       ...   \n",
              "17769  really rough one mental health truly feel many...  positive   \n",
              "17770  happy new year everyone except boy dated coupl...  positive   \n",
              "17771  crazy bought car moved shot porn butt plug bum...  negative   \n",
              "17772  think descent art year despite able use tablet...   neutral   \n",
              "17773  hi active moment wanted say happy new year acc...  positive   \n",
              "\n",
              "                                        tokenized_tweets  \\\n",
              "0      [put, hours, game, last, year, still, holds, w...   \n",
              "1                               [story, great, terrible]   \n",
              "2      [jaedo, event, bought, tickets, nd, quarter, f...   \n",
              "3      [year, going, super, dynamic, bc, im, graduati...   \n",
              "4      [literally, tough, year, none, plan, going, ri...   \n",
              "...                                                  ...   \n",
              "17769  [really, rough, one, mental, health, truly, fe...   \n",
              "17770  [happy, new, year, everyone, except, boy, date...   \n",
              "17771  [crazy, bought, car, moved, shot, porn, butt, ...   \n",
              "17772  [think, descent, art, year, despite, able, use...   \n",
              "17773  [hi, active, moment, wanted, say, happy, new, ...   \n",
              "\n",
              "                                       lemmatized_tweets  \n",
              "0      put hour game last year still hold well blast ...  \n",
              "1                                   story great terrible  \n",
              "2      jaedo event bought ticket nd quarter finally p...  \n",
              "3      year going super dynamic bc im graduating uni ...  \n",
              "4      literally tough year none plan going right pre...  \n",
              "...                                                  ...  \n",
              "17769  really rough one mental health truly feel many...  \n",
              "17770  happy new year everyone except boy dated coupl...  \n",
              "17771  crazy bought car moved shot porn butt plug bum...  \n",
              "17772  think descent art year despite able use tablet...  \n",
              "17773  hi active moment wanted say happy new year acc...  \n",
              "\n",
              "[17774 rows x 4 columns]"
            ],
            "text/html": [
              "\n",
              "  <div id=\"df-c536eddd-7e22-4444-b27c-8608765c5c83\">\n",
              "    <div class=\"colab-df-container\">\n",
              "      <div>\n",
              "<style scoped>\n",
              "    .dataframe tbody tr th:only-of-type {\n",
              "        vertical-align: middle;\n",
              "    }\n",
              "\n",
              "    .dataframe tbody tr th {\n",
              "        vertical-align: top;\n",
              "    }\n",
              "\n",
              "    .dataframe thead th {\n",
              "        text-align: right;\n",
              "    }\n",
              "</style>\n",
              "<table border=\"1\" class=\"dataframe\">\n",
              "  <thead>\n",
              "    <tr style=\"text-align: right;\">\n",
              "      <th></th>\n",
              "      <th>non_punctuated_tweets</th>\n",
              "      <th>sentiment</th>\n",
              "      <th>tokenized_tweets</th>\n",
              "      <th>lemmatized_tweets</th>\n",
              "    </tr>\n",
              "  </thead>\n",
              "  <tbody>\n",
              "    <tr>\n",
              "      <th>0</th>\n",
              "      <td>put hours game last year still holds well blas...</td>\n",
              "      <td>positive</td>\n",
              "      <td>[put, hours, game, last, year, still, holds, w...</td>\n",
              "      <td>put hour game last year still hold well blast ...</td>\n",
              "    </tr>\n",
              "    <tr>\n",
              "      <th>1</th>\n",
              "      <td>story great terrible</td>\n",
              "      <td>positive</td>\n",
              "      <td>[story, great, terrible]</td>\n",
              "      <td>story great terrible</td>\n",
              "    </tr>\n",
              "    <tr>\n",
              "      <th>2</th>\n",
              "      <td>jaedo event bought tickets nd quarter finally ...</td>\n",
              "      <td>negative</td>\n",
              "      <td>[jaedo, event, bought, tickets, nd, quarter, f...</td>\n",
              "      <td>jaedo event bought ticket nd quarter finally p...</td>\n",
              "    </tr>\n",
              "    <tr>\n",
              "      <th>3</th>\n",
              "      <td>year going super dynamic bc im graduating uni ...</td>\n",
              "      <td>positive</td>\n",
              "      <td>[year, going, super, dynamic, bc, im, graduati...</td>\n",
              "      <td>year going super dynamic bc im graduating uni ...</td>\n",
              "    </tr>\n",
              "    <tr>\n",
              "      <th>4</th>\n",
              "      <td>literally tough year none plan going right pre...</td>\n",
              "      <td>positive</td>\n",
              "      <td>[literally, tough, year, none, plan, going, ri...</td>\n",
              "      <td>literally tough year none plan going right pre...</td>\n",
              "    </tr>\n",
              "    <tr>\n",
              "      <th>...</th>\n",
              "      <td>...</td>\n",
              "      <td>...</td>\n",
              "      <td>...</td>\n",
              "      <td>...</td>\n",
              "    </tr>\n",
              "    <tr>\n",
              "      <th>17769</th>\n",
              "      <td>really rough one mental health truly feel many...</td>\n",
              "      <td>positive</td>\n",
              "      <td>[really, rough, one, mental, health, truly, fe...</td>\n",
              "      <td>really rough one mental health truly feel many...</td>\n",
              "    </tr>\n",
              "    <tr>\n",
              "      <th>17770</th>\n",
              "      <td>happy new year everyone except boy dated coupl...</td>\n",
              "      <td>positive</td>\n",
              "      <td>[happy, new, year, everyone, except, boy, date...</td>\n",
              "      <td>happy new year everyone except boy dated coupl...</td>\n",
              "    </tr>\n",
              "    <tr>\n",
              "      <th>17771</th>\n",
              "      <td>crazy bought car moved shot porn butt plug bum...</td>\n",
              "      <td>negative</td>\n",
              "      <td>[crazy, bought, car, moved, shot, porn, butt, ...</td>\n",
              "      <td>crazy bought car moved shot porn butt plug bum...</td>\n",
              "    </tr>\n",
              "    <tr>\n",
              "      <th>17772</th>\n",
              "      <td>think descent art year despite able use tablet...</td>\n",
              "      <td>neutral</td>\n",
              "      <td>[think, descent, art, year, despite, able, use...</td>\n",
              "      <td>think descent art year despite able use tablet...</td>\n",
              "    </tr>\n",
              "    <tr>\n",
              "      <th>17773</th>\n",
              "      <td>hi active moment wanted say happy new year acc...</td>\n",
              "      <td>positive</td>\n",
              "      <td>[hi, active, moment, wanted, say, happy, new, ...</td>\n",
              "      <td>hi active moment wanted say happy new year acc...</td>\n",
              "    </tr>\n",
              "  </tbody>\n",
              "</table>\n",
              "<p>17774 rows × 4 columns</p>\n",
              "</div>\n",
              "      <button class=\"colab-df-convert\" onclick=\"convertToInteractive('df-c536eddd-7e22-4444-b27c-8608765c5c83')\"\n",
              "              title=\"Convert this dataframe to an interactive table.\"\n",
              "              style=\"display:none;\">\n",
              "        \n",
              "  <svg xmlns=\"http://www.w3.org/2000/svg\" height=\"24px\"viewBox=\"0 0 24 24\"\n",
              "       width=\"24px\">\n",
              "    <path d=\"M0 0h24v24H0V0z\" fill=\"none\"/>\n",
              "    <path d=\"M18.56 5.44l.94 2.06.94-2.06 2.06-.94-2.06-.94-.94-2.06-.94 2.06-2.06.94zm-11 1L8.5 8.5l.94-2.06 2.06-.94-2.06-.94L8.5 2.5l-.94 2.06-2.06.94zm10 10l.94 2.06.94-2.06 2.06-.94-2.06-.94-.94-2.06-.94 2.06-2.06.94z\"/><path d=\"M17.41 7.96l-1.37-1.37c-.4-.4-.92-.59-1.43-.59-.52 0-1.04.2-1.43.59L10.3 9.45l-7.72 7.72c-.78.78-.78 2.05 0 2.83L4 21.41c.39.39.9.59 1.41.59.51 0 1.02-.2 1.41-.59l7.78-7.78 2.81-2.81c.8-.78.8-2.07 0-2.86zM5.41 20L4 18.59l7.72-7.72 1.47 1.35L5.41 20z\"/>\n",
              "  </svg>\n",
              "      </button>\n",
              "      \n",
              "  <style>\n",
              "    .colab-df-container {\n",
              "      display:flex;\n",
              "      flex-wrap:wrap;\n",
              "      gap: 12px;\n",
              "    }\n",
              "\n",
              "    .colab-df-convert {\n",
              "      background-color: #E8F0FE;\n",
              "      border: none;\n",
              "      border-radius: 50%;\n",
              "      cursor: pointer;\n",
              "      display: none;\n",
              "      fill: #1967D2;\n",
              "      height: 32px;\n",
              "      padding: 0 0 0 0;\n",
              "      width: 32px;\n",
              "    }\n",
              "\n",
              "    .colab-df-convert:hover {\n",
              "      background-color: #E2EBFA;\n",
              "      box-shadow: 0px 1px 2px rgba(60, 64, 67, 0.3), 0px 1px 3px 1px rgba(60, 64, 67, 0.15);\n",
              "      fill: #174EA6;\n",
              "    }\n",
              "\n",
              "    [theme=dark] .colab-df-convert {\n",
              "      background-color: #3B4455;\n",
              "      fill: #D2E3FC;\n",
              "    }\n",
              "\n",
              "    [theme=dark] .colab-df-convert:hover {\n",
              "      background-color: #434B5C;\n",
              "      box-shadow: 0px 1px 3px 1px rgba(0, 0, 0, 0.15);\n",
              "      filter: drop-shadow(0px 1px 2px rgba(0, 0, 0, 0.3));\n",
              "      fill: #FFFFFF;\n",
              "    }\n",
              "  </style>\n",
              "\n",
              "      <script>\n",
              "        const buttonEl =\n",
              "          document.querySelector('#df-c536eddd-7e22-4444-b27c-8608765c5c83 button.colab-df-convert');\n",
              "        buttonEl.style.display =\n",
              "          google.colab.kernel.accessAllowed ? 'block' : 'none';\n",
              "\n",
              "        async function convertToInteractive(key) {\n",
              "          const element = document.querySelector('#df-c536eddd-7e22-4444-b27c-8608765c5c83');\n",
              "          const dataTable =\n",
              "            await google.colab.kernel.invokeFunction('convertToInteractive',\n",
              "                                                     [key], {});\n",
              "          if (!dataTable) return;\n",
              "\n",
              "          const docLinkHtml = 'Like what you see? Visit the ' +\n",
              "            '<a target=\"_blank\" href=https://colab.research.google.com/notebooks/data_table.ipynb>data table notebook</a>'\n",
              "            + ' to learn more about interactive tables.';\n",
              "          element.innerHTML = '';\n",
              "          dataTable['output_type'] = 'display_data';\n",
              "          await google.colab.output.renderOutput(dataTable, element);\n",
              "          const docLink = document.createElement('div');\n",
              "          docLink.innerHTML = docLinkHtml;\n",
              "          element.appendChild(docLink);\n",
              "        }\n",
              "      </script>\n",
              "    </div>\n",
              "  </div>\n",
              "  "
            ]
          },
          "metadata": {},
          "execution_count": 37
        }
      ],
      "source": [
        "Data"
      ]
    },
    {
      "cell_type": "markdown",
      "source": [
        "Converting Lemmatized Tweets to Vectors.\n"
      ],
      "metadata": {
        "id": "4ybyDW7zZ2lQ"
      }
    },
    {
      "cell_type": "code",
      "execution_count": 38,
      "metadata": {
        "id": "amW0KD8isrNf"
      },
      "outputs": [],
      "source": [
        "# The maximum number of words to be used. (most frequent)\n",
        "MAX_NB_WORDS = 500\n",
        "# Max number of words in each tweets.\n",
        "MAX_SEQUENCE_LENGTH = 50\n",
        "# This is fixed.\n",
        "EMBEDDING_DIM = 100"
      ]
    },
    {
      "cell_type": "code",
      "execution_count": 39,
      "metadata": {
        "id": "1PUVYXqcsrNf",
        "colab": {
          "base_uri": "https://localhost:8080/"
        },
        "outputId": "21a12209-9255-4127-ddaa-6e1890307d3a"
      },
      "outputs": [
        {
          "output_type": "stream",
          "name": "stdout",
          "text": [
            "Found 22546 unique tokens.\n"
          ]
        }
      ],
      "source": [
        "tokenizer = Tokenizer(num_words=MAX_NB_WORDS, split=' ') \n",
        "tokenizer.fit_on_texts(Data.lemmatized_tweets.values)\n",
        "word_index = tokenizer.word_index\n",
        "print('Found %s unique tokens.' % len(word_index))"
      ]
    },
    {
      "cell_type": "code",
      "execution_count": 40,
      "metadata": {
        "id": "IQKNj6ZisrNg",
        "colab": {
          "base_uri": "https://localhost:8080/"
        },
        "outputId": "63fe3bb1-9c84-42de-d298-49473b4fcfa2"
      },
      "outputs": [
        {
          "output_type": "stream",
          "name": "stdout",
          "text": [
            "Shape of data tensor: (17774, 50)\n"
          ]
        }
      ],
      "source": [
        "X = tokenizer.texts_to_sequences(Data.lemmatized_tweets.values)\n",
        "X = pad_sequences(X, maxlen=MAX_SEQUENCE_LENGTH)\n",
        "print('Shape of data tensor:', X.shape)"
      ]
    },
    {
      "cell_type": "markdown",
      "source": [
        "One Hot Encoding of the Sentiment Column.\n"
      ],
      "metadata": {
        "id": "yUuiyYoCZt4Q"
      }
    },
    {
      "cell_type": "code",
      "execution_count": 41,
      "metadata": {
        "id": "jNj9cbPdsrNg",
        "colab": {
          "base_uri": "https://localhost:8080/"
        },
        "outputId": "338ff552-41ec-45c0-fc81-2377882ff71e"
      },
      "outputs": [
        {
          "output_type": "stream",
          "name": "stdout",
          "text": [
            "Shape of label tensor: (17774, 3)\n"
          ]
        }
      ],
      "source": [
        "Y = pd.get_dummies(Data.sentiment).values\n",
        "print('Shape of label tensor:', Y.shape)"
      ]
    },
    {
      "cell_type": "code",
      "execution_count": 42,
      "metadata": {
        "id": "xrckpaJFsrNg",
        "colab": {
          "base_uri": "https://localhost:8080/"
        },
        "outputId": "4b4c7d01-4d84-4840-bf17-26e592080354"
      },
      "outputs": [
        {
          "output_type": "execute_result",
          "data": {
            "text/plain": [
              "array([[0, 0, 1],\n",
              "       [0, 0, 1],\n",
              "       [1, 0, 0],\n",
              "       ...,\n",
              "       [1, 0, 0],\n",
              "       [0, 1, 0],\n",
              "       [0, 0, 1]], dtype=uint8)"
            ]
          },
          "metadata": {},
          "execution_count": 42
        }
      ],
      "source": [
        "Y"
      ]
    },
    {
      "cell_type": "markdown",
      "source": [
        "Train Test Split."
      ],
      "metadata": {
        "id": "CdYt-i8DZ_A9"
      }
    },
    {
      "cell_type": "code",
      "execution_count": 43,
      "metadata": {
        "id": "7pM73mO6srNh",
        "colab": {
          "base_uri": "https://localhost:8080/"
        },
        "outputId": "27a01977-32a0-4807-c6a5-78b20f754999"
      },
      "outputs": [
        {
          "output_type": "stream",
          "name": "stdout",
          "text": [
            "(14219, 50) (14219, 3)\n",
            "(3555, 50) (3555, 3)\n"
          ]
        }
      ],
      "source": [
        "X_train, X_test, Y_train, Y_test = train_test_split(X,Y, test_size = 0.2, random_state = 42)\n",
        "print(X_train.shape,Y_train.shape)\n",
        "print(X_test.shape,Y_test.shape)"
      ]
    },
    {
      "cell_type": "markdown",
      "source": [
        "Modelling."
      ],
      "metadata": {
        "id": "qM4W3LRsaCY2"
      }
    },
    {
      "cell_type": "code",
      "execution_count": 44,
      "metadata": {
        "id": "hMr_6cz-srNh"
      },
      "outputs": [],
      "source": [
        "from numpy.random import seed\n",
        "seed(1)\n",
        "import tensorflow\n",
        "tensorflow.random.set_seed(2)\n",
        "f1 = tfa.metrics.F1Score(36,'micro' or 'macro')\n",
        "model = Sequential()\n",
        "model.add(Embedding(MAX_NB_WORDS, EMBEDDING_DIM, input_length=X.shape[1]))\n",
        "model.add(SpatialDropout1D(0.2))\n",
        "model.add(LSTM(100, dropout=0.2, recurrent_dropout=0.2))\n",
        "model.add(Dense(3, activation='softmax'))\n",
        "model.compile(loss='categorical_crossentropy', optimizer='adam', metrics=['accuracy',f1])\n",
        "\n",
        "epochs = 7\n",
        "batch_size = 64"
      ]
    },
    {
      "cell_type": "code",
      "execution_count": 45,
      "metadata": {
        "colab": {
          "base_uri": "https://localhost:8080/"
        },
        "id": "XvtQ698TsrNi",
        "outputId": "7a9b0a38-8a46-4ee6-cefd-b4c62f151b9d"
      },
      "outputs": [
        {
          "output_type": "stream",
          "name": "stdout",
          "text": [
            "Epoch 1/7\n",
            "200/200 [==============================] - ETA: 0s - loss: 0.7620 - accuracy: 0.7092 - f1_score: 0.7092"
          ]
        },
        {
          "output_type": "stream",
          "name": "stderr",
          "text": [
            "/usr/local/lib/python3.7/dist-packages/keras/engine/training.py:2086: UserWarning: Metric F1Score implements a `reset_states()` method; rename it to `reset_state()` (without the final \"s\"). The name `reset_states()` has been deprecated to improve API consistency.\n",
            "  m.reset_state()\n"
          ]
        },
        {
          "output_type": "stream",
          "name": "stdout",
          "text": [
            "\b\b\b\b\b\b\b\b\b\b\b\b\b\b\b\b\b\b\b\b\b\b\b\b\b\b\b\b\b\b\b\b\b\b\b\b\b\b\b\b\b\b\b\b\b\b\b\b\b\b\b\b\b\b\b\b\b\b\b\b\b\b\b\b\b\b\b\b\b\b\b\b\b\b\b\b\b\b\b\b\b\b\b\b\b\b\b\b\b\b\b\b\b\b\b\b\b\b\b\b\b\b\b\r200/200 [==============================] - 41s 191ms/step - loss: 0.7620 - accuracy: 0.7092 - f1_score: 0.7092 - val_loss: 0.7295 - val_accuracy: 0.7082 - val_f1_score: 0.7082\n",
            "Epoch 2/7\n",
            "200/200 [==============================] - 26s 132ms/step - loss: 0.6974 - accuracy: 0.7198 - f1_score: 0.7198 - val_loss: 0.7283 - val_accuracy: 0.7053 - val_f1_score: 0.7053\n",
            "Epoch 3/7\n",
            "200/200 [==============================] - 26s 130ms/step - loss: 0.6641 - accuracy: 0.7338 - f1_score: 0.7338 - val_loss: 0.7091 - val_accuracy: 0.7201 - val_f1_score: 0.7201\n",
            "Epoch 4/7\n",
            "200/200 [==============================] - 28s 139ms/step - loss: 0.6422 - accuracy: 0.7406 - f1_score: 0.7406 - val_loss: 0.6893 - val_accuracy: 0.7215 - val_f1_score: 0.7215\n",
            "Epoch 5/7\n",
            "200/200 [==============================] - 26s 130ms/step - loss: 0.6152 - accuracy: 0.7540 - f1_score: 0.7540 - val_loss: 0.6628 - val_accuracy: 0.7384 - val_f1_score: 0.7384\n",
            "Epoch 6/7\n",
            "200/200 [==============================] - 26s 130ms/step - loss: 0.5934 - accuracy: 0.7607 - f1_score: 0.7607 - val_loss: 0.6561 - val_accuracy: 0.7419 - val_f1_score: 0.7419\n",
            "Epoch 7/7\n",
            "200/200 [==============================] - 26s 130ms/step - loss: 0.5735 - accuracy: 0.7670 - f1_score: 0.7670 - val_loss: 0.6561 - val_accuracy: 0.7461 - val_f1_score: 0.7461\n"
          ]
        }
      ],
      "source": [
        "history_1 = model.fit(X_train, Y_train, epochs=epochs, batch_size=batch_size,validation_split=0.1,callbacks=[EarlyStopping(monitor='val_loss', patience=3, min_delta=0.0001)])"
      ]
    },
    {
      "cell_type": "code",
      "execution_count": 46,
      "metadata": {
        "colab": {
          "base_uri": "https://localhost:8080/"
        },
        "id": "okq1e6wpsrNi",
        "outputId": "880bf311-d8c8-4284-fd75-485bb86bc62b"
      },
      "outputs": [
        {
          "output_type": "stream",
          "name": "stdout",
          "text": [
            "112/112 [==============================] - 2s 15ms/step - loss: 0.6606 - accuracy: 0.7463 - f1_score: 0.7463\n",
            "Test set\n",
            "  Loss: 0.661\n",
            "  Accuracy: 0.746\n"
          ]
        }
      ],
      "source": [
        "accr = model.evaluate(X_test,Y_test)\n",
        "print('Test set\\n  Loss: {:0.3f}\\n  Accuracy: {:0.3f}'.format(accr[0],accr[1]))"
      ]
    },
    {
      "cell_type": "code",
      "execution_count": 47,
      "metadata": {
        "colab": {
          "base_uri": "https://localhost:8080/",
          "height": 499
        },
        "id": "DY-83LQxsrNi",
        "outputId": "f4cdc76d-759d-47dc-eee7-29adf682f843"
      },
      "outputs": [
        {
          "output_type": "display_data",
          "data": {
            "text/plain": [
              "<Figure size 576x576 with 1 Axes>"
            ],
            "image/png": "[encoded data removed]"
          },
          "metadata": {
            "needs_background": "light"
          }
        }
      ],
      "source": [
        "plt.figure(figsize=(8, 8))\n",
        "plt.title('Loss')\n",
        "plt.plot(history_1.history['loss'], label='train')\n",
        "plt.plot(history_1.history['val_loss'], label='test')\n",
        "plt.legend()\n",
        "plt.show()\n"
      ]
    },
    {
      "cell_type": "code",
      "execution_count": 48,
      "metadata": {
        "colab": {
          "base_uri": "https://localhost:8080/",
          "height": 499
        },
        "id": "DdAumlv6srNj",
        "outputId": "fbcac3aa-90ca-4b94-b838-35f0a475a723"
      },
      "outputs": [
        {
          "output_type": "display_data",
          "data": {
            "text/plain": [
              "<Figure size 576x576 with 1 Axes>"
            ],
            "image/png": "[encoded data removed]"
          },
          "metadata": {
            "needs_background": "light"
          }
        }
      ],
      "source": [
        "plt.figure(figsize=(8, 8))\n",
        "plt.title('Accuracy')\n",
        "plt.plot(history_1.history['accuracy'], label='train')\n",
        "plt.plot(history_1.history['val_accuracy'], label='test')\n",
        "plt.legend()\n",
        "plt.show();"
      ]
    },
    {
      "cell_type": "code",
      "execution_count": 51,
      "metadata": {
        "colab": {
          "base_uri": "https://localhost:8080/"
        },
        "id": "wDp8o8vIsrNj",
        "outputId": "61980141-347b-4dca-e212-2279d3c64e90"
      },
      "outputs": [
        {
          "output_type": "stream",
          "name": "stdout",
          "text": [
            "1/1 [==============================] - 0s 22ms/step\n",
            "[[0.06082759 0.03203068 0.90714175]] positive\n"
          ]
        }
      ],
      "source": [
        "tweet = [\"\"]\n",
        "seq = tokenizer.texts_to_sequences(tweet)\n",
        "padded = pad_sequences(seq, maxlen=MAX_SEQUENCE_LENGTH)\n",
        "pred = model.predict(padded)\n",
        "labels = ['negative','neutral','positive']\n",
        "print(pred, labels[np.argmax(pred)])"
      ]
    },
    {
      "cell_type": "code",
      "execution_count": 49,
      "metadata": {
        "id": "iw24thDbsrNj"
      },
      "outputs": [],
      "source": []
    },
    {
      "cell_type": "code",
      "execution_count": 49,
      "metadata": {
        "id": "9bo7VX9dsrNk"
      },
      "outputs": [],
      "source": []
    },
    {
      "cell_type": "code",
      "execution_count": 49,
      "metadata": {
        "id": "o7JeHLYysrNk"
      },
      "outputs": [],
      "source": [
        "##Today was the worst day of my life as i got dreched while going for my interview. -ve\n",
        "##Hello, how you doinnn?? =\n",
        "##Wow what a lovely day it is +ve\n"
      ]
    }
  ],
  "metadata": {
    "colab": {
      "provenance": [],
      "collapsed_sections": []
    },
    "gpuClass": "standard",
    "kernelspec": {
      "display_name": "Python 3 (ipykernel)",
      "language": "python",
      "name": "python3"
    },
    "language_info": {
      "codemirror_mode": {
        "name": "ipython",
        "version": 3
      },
      "file_extension": ".py",
      "mimetype": "text/x-python",
      "name": "python",
      "nbconvert_exporter": "python",
      "pygments_lexer": "ipython3",
      "version": "3.7.12"
    }
  },
  "nbformat": 4,
  "nbformat_minor": 0
}